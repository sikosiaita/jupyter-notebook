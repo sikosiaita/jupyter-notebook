{
  "cells": [
    {
      "cell_type": "markdown",
      "id": "7c154962",
      "metadata": {
        "id": "7c154962"
      },
      "source": [
        "numpy funciones matematicas\n",
        "pandas\n",
        "matplotlib"
      ]
    },
    {
      "cell_type": "code",
      "execution_count": 1,
      "id": "9cc779df",
      "metadata": {
        "colab": {
          "base_uri": "https://localhost:8080/"
        },
        "id": "9cc779df",
        "outputId": "a1d4917f-da7a-45ee-c94c-40fc9d4f04f4"
      },
      "outputs": [
        {
          "output_type": "stream",
          "name": "stdout",
          "text": [
            "Requirement already satisfied: numpy in /usr/local/lib/python3.11/dist-packages (2.0.2)\n"
          ]
        }
      ],
      "source": [
        "pip install numpy"
      ]
    },
    {
      "cell_type": "markdown",
      "id": "1f87c76b",
      "metadata": {
        "id": "1f87c76b"
      },
      "source": [
        "Funciones de Numpy argmax()-argmin()/Max-min en Python\n",
        "sqrt() Para sacar la raiz cuadrada"
      ]
    },
    {
      "cell_type": "code",
      "execution_count": 4,
      "id": "f2d89dde",
      "metadata": {
        "id": "f2d89dde"
      },
      "outputs": [],
      "source": [
        "import numpy as np"
      ]
    },
    {
      "cell_type": "code",
      "execution_count": 2,
      "id": "83ce3574",
      "metadata": {
        "colab": {
          "base_uri": "https://localhost:8080/"
        },
        "id": "83ce3574",
        "outputId": "538f6ca2-ca0b-4591-cfe4-a7d00acc1d91"
      },
      "outputs": [
        {
          "output_type": "stream",
          "name": "stdout",
          "text": [
            "Hola\n"
          ]
        }
      ],
      "source": [
        "print (\"Hola\")"
      ]
    },
    {
      "cell_type": "code",
      "execution_count": 3,
      "id": "c04e1099",
      "metadata": {
        "id": "c04e1099"
      },
      "outputs": [],
      "source": [
        "import sys"
      ]
    },
    {
      "cell_type": "markdown",
      "id": "7d546e97",
      "metadata": {
        "id": "7d546e97"
      },
      "source": [
        "#### Creando una lista"
      ]
    },
    {
      "cell_type": "code",
      "execution_count": 5,
      "id": "f711430c",
      "metadata": {
        "colab": {
          "base_uri": "https://localhost:8080/"
        },
        "id": "f711430c",
        "outputId": "affef426-c969-44bd-e012-f462008fdbe1"
      },
      "outputs": [
        {
          "output_type": "execute_result",
          "data": {
            "text/plain": [
              "[1, 2, 3, 4, 5, 6, 7, 8, 9, 10]"
            ]
          },
          "metadata": {},
          "execution_count": 5
        }
      ],
      "source": [
        "lista = list(range(1,11))\n",
        "lista"
      ]
    },
    {
      "cell_type": "markdown",
      "id": "adf568cc",
      "metadata": {
        "id": "adf568cc"
      },
      "source": [
        "Pasando de lista a un Array (array es una funcion de numpy)"
      ]
    },
    {
      "cell_type": "code",
      "execution_count": 6,
      "id": "cc30acbc",
      "metadata": {
        "colab": {
          "base_uri": "https://localhost:8080/"
        },
        "id": "cc30acbc",
        "outputId": "2d73166a-b7d7-4664-8400-8dcededd45ea"
      },
      "outputs": [
        {
          "output_type": "execute_result",
          "data": {
            "text/plain": [
              "array([ 1,  2,  3,  4,  5,  6,  7,  8,  9, 10])"
            ]
          },
          "metadata": {},
          "execution_count": 6
        }
      ],
      "source": [
        "arreglo = np.array(lista)\n",
        "arreglo"
      ]
    },
    {
      "cell_type": "markdown",
      "id": "90c1fe58",
      "metadata": {
        "id": "90c1fe58"
      },
      "source": [
        "#### Crear una lista de solo numeros unos"
      ]
    },
    {
      "cell_type": "code",
      "execution_count": 7,
      "id": "86fc85c3",
      "metadata": {
        "colab": {
          "base_uri": "https://localhost:8080/"
        },
        "id": "86fc85c3",
        "outputId": "dd8ab297-1be4-4531-d532-755327564460"
      },
      "outputs": [
        {
          "output_type": "execute_result",
          "data": {
            "text/plain": [
              "array([1., 1., 1., 1., 1., 1., 1., 1., 1., 1., 1., 1., 1., 1., 1., 1., 1.,\n",
              "       1., 1., 1., 1., 1., 1., 1.])"
            ]
          },
          "metadata": {},
          "execution_count": 7
        }
      ],
      "source": [
        "unos = np.ones(24)\n",
        "unos"
      ]
    },
    {
      "cell_type": "code",
      "execution_count": 8,
      "id": "c1855868",
      "metadata": {
        "colab": {
          "base_uri": "https://localhost:8080/"
        },
        "id": "c1855868",
        "outputId": "bda60583-36ed-41e2-8964-16f80dc06a6c"
      },
      "outputs": [
        {
          "output_type": "execute_result",
          "data": {
            "text/plain": [
              "array([0., 0., 0., 0., 0., 0., 0., 0., 0., 0., 0., 0., 0., 0., 0., 0., 0.,\n",
              "       0., 0., 0., 0., 0., 0., 0., 0., 0., 0., 0., 0., 0., 0., 0., 0., 0.,\n",
              "       0., 0., 0., 0., 0., 0., 0., 0., 0., 0., 0., 0., 0., 0., 0., 0., 0.,\n",
              "       0., 0., 0., 0., 0., 0., 0., 0., 0., 0., 0., 0., 0., 0., 0., 0., 0.,\n",
              "       0., 0., 0., 0., 0., 0., 0., 0., 0., 0., 0., 0., 0., 0., 0., 0., 0.,\n",
              "       0., 0., 0., 0., 0., 0., 0., 0., 0., 0., 0., 0., 0., 0., 0.])"
            ]
          },
          "metadata": {},
          "execution_count": 8
        }
      ],
      "source": [
        "ceros = np.zeros(100)\n",
        "ceros"
      ]
    },
    {
      "cell_type": "code",
      "execution_count": 9,
      "id": "e3fb9043",
      "metadata": {
        "colab": {
          "base_uri": "https://localhost:8080/"
        },
        "id": "e3fb9043",
        "outputId": "1c34fcc0-ed49-47b7-a072-d59fa165b3e7"
      },
      "outputs": [
        {
          "output_type": "execute_result",
          "data": {
            "text/plain": [
              "numpy.ndarray"
            ]
          },
          "metadata": {},
          "execution_count": 9
        }
      ],
      "source": [
        "type(ceros)"
      ]
    },
    {
      "cell_type": "code",
      "execution_count": 10,
      "id": "f4dbba20",
      "metadata": {
        "colab": {
          "base_uri": "https://localhost:8080/"
        },
        "id": "f4dbba20",
        "outputId": "d7297644-e093-4e19-a917-757732a77aad"
      },
      "outputs": [
        {
          "output_type": "execute_result",
          "data": {
            "text/plain": [
              "dtype('int64')"
            ]
          },
          "metadata": {},
          "execution_count": 10
        }
      ],
      "source": [
        "arreglo.dtype"
      ]
    },
    {
      "cell_type": "code",
      "execution_count": 12,
      "id": "06dfe967",
      "metadata": {
        "colab": {
          "base_uri": "https://localhost:8080/"
        },
        "id": "06dfe967",
        "outputId": "5765f59d-6b7e-4c9e-88af-642923e35f8b"
      },
      "outputs": [
        {
          "output_type": "execute_result",
          "data": {
            "text/plain": [
              "['vale', 22, True]"
            ]
          },
          "metadata": {},
          "execution_count": 12
        }
      ],
      "source": [
        "lista2 = [\"vale\", 22, True]\n",
        "lista2"
      ]
    },
    {
      "cell_type": "code",
      "execution_count": 13,
      "id": "1c451d14",
      "metadata": {
        "colab": {
          "base_uri": "https://localhost:8080/"
        },
        "id": "1c451d14",
        "outputId": "74024050-37f2-4594-c79a-d5c7f1cc81e7"
      },
      "outputs": [
        {
          "output_type": "execute_result",
          "data": {
            "text/plain": [
              "array(['vale', '22', 'True'], dtype='<U21')"
            ]
          },
          "metadata": {},
          "execution_count": 13
        }
      ],
      "source": [
        "arreglo2 = np.array(lista2)\n",
        "arreglo2"
      ]
    },
    {
      "cell_type": "markdown",
      "id": "dd03cc51",
      "metadata": {
        "id": "dd03cc51"
      },
      "source": [
        "### Consultando la cantidad de memoria ocupada"
      ]
    },
    {
      "cell_type": "code",
      "execution_count": 14,
      "id": "a837e725",
      "metadata": {
        "colab": {
          "base_uri": "https://localhost:8080/"
        },
        "id": "a837e725",
        "outputId": "1dc2e817-9531-41d6-a08d-5f12ec72e740"
      },
      "outputs": [
        {
          "output_type": "stream",
          "name": "stdout",
          "text": [
            "Memoria ocupada por la lista: 136 bytes\n",
            "Memorua ocupada por el array: 80 bytes\n"
          ]
        }
      ],
      "source": [
        "memoria_lista = sys.getsizeof(lista)\n",
        "memoria_arreglo = arreglo.nbytes\n",
        "\n",
        "print(f\"Memoria ocupada por la lista: {memoria_lista} bytes\")\n",
        "print(f\"Memorua ocupada por el array: {memoria_arreglo} bytes\")"
      ]
    },
    {
      "cell_type": "markdown",
      "id": "4ca8f37c",
      "metadata": {
        "id": "4ca8f37c"
      },
      "source": [
        "### Promedio del arreglo"
      ]
    },
    {
      "cell_type": "code",
      "execution_count": 15,
      "id": "60f2b72a",
      "metadata": {
        "colab": {
          "base_uri": "https://localhost:8080/"
        },
        "id": "60f2b72a",
        "outputId": "482885fa-f28d-4702-b1fb-c2649a91e667"
      },
      "outputs": [
        {
          "output_type": "execute_result",
          "data": {
            "text/plain": [
              "np.float64(5.5)"
            ]
          },
          "metadata": {},
          "execution_count": 15
        }
      ],
      "source": [
        "promedio = np.mean(lista)\n",
        "promedio"
      ]
    },
    {
      "cell_type": "code",
      "execution_count": 16,
      "id": "df773658",
      "metadata": {
        "colab": {
          "base_uri": "https://localhost:8080/"
        },
        "id": "df773658",
        "outputId": "911481fa-f1fb-4ff0-88d3-5bc0683ac3e8"
      },
      "outputs": [
        {
          "output_type": "execute_result",
          "data": {
            "text/plain": [
              "array([ 1.,  2.,  3.,  4.,  5.,  6.,  7.,  8.,  9., 10.])"
            ]
          },
          "metadata": {},
          "execution_count": 16
        }
      ],
      "source": [
        "new_arreglo = arreglo.astype(np.float64)\n",
        "new_arreglo"
      ]
    },
    {
      "cell_type": "markdown",
      "id": "ae774a12",
      "metadata": {
        "id": "ae774a12"
      },
      "source": [
        "### Aplicando el paquete random\n",
        "\n",
        "Se genera una lista de numeros enteros aleatorios, que van desde el numero que le deseamos escoger"
      ]
    },
    {
      "cell_type": "code",
      "execution_count": 17,
      "id": "9e095471",
      "metadata": {
        "colab": {
          "base_uri": "https://localhost:8080/"
        },
        "id": "9e095471",
        "outputId": "58e75fb6-4370-410a-e5fb-ad2d3f814431"
      },
      "outputs": [
        {
          "output_type": "execute_result",
          "data": {
            "text/plain": [
              "1"
            ]
          },
          "metadata": {},
          "execution_count": 17
        }
      ],
      "source": [
        "np.random.randint(10)"
      ]
    },
    {
      "cell_type": "code",
      "execution_count": 18,
      "id": "ab55b831",
      "metadata": {
        "colab": {
          "base_uri": "https://localhost:8080/"
        },
        "id": "ab55b831",
        "outputId": "acb22e73-eb79-4249-a3c5-fb37e1c50b44"
      },
      "outputs": [
        {
          "output_type": "execute_result",
          "data": {
            "text/plain": [
              "16"
            ]
          },
          "metadata": {},
          "execution_count": 18
        }
      ],
      "source": [
        "np.random.randint(1,100)"
      ]
    },
    {
      "cell_type": "code",
      "execution_count": 19,
      "id": "8501b82a",
      "metadata": {
        "colab": {
          "base_uri": "https://localhost:8080/"
        },
        "id": "8501b82a",
        "outputId": "bcaa266f-7440-44b2-e7bb-c3a5ef39c7af"
      },
      "outputs": [
        {
          "output_type": "execute_result",
          "data": {
            "text/plain": [
              "array([[[0.35268588, 0.32037515, 0.43720499, 0.94012738],\n",
              "        [0.89076334, 0.5097604 , 0.9188359 , 0.19015481],\n",
              "        [0.22617551, 0.42099961, 0.17604814, 0.64093766],\n",
              "        [0.56657933, 0.05788422, 0.43221631, 0.68279078],\n",
              "        [0.50245175, 0.33046599, 0.05096789, 0.35997872],\n",
              "        [0.46557293, 0.15647033, 0.13948077, 0.36487021],\n",
              "        [0.07397333, 0.02884558, 0.81504058, 0.63485902],\n",
              "        [0.5474572 , 0.42173489, 0.21386917, 0.32466617],\n",
              "        [0.56582598, 0.28213009, 0.3290065 , 0.34383587],\n",
              "        [0.05258666, 0.92942762, 0.82306898, 0.09044801]]])"
            ]
          },
          "metadata": {},
          "execution_count": 19
        }
      ],
      "source": [
        "np.random.rand(1,10,4)"
      ]
    }
  ],
  "metadata": {
    "kernelspec": {
      "display_name": "Python 3",
      "language": "python",
      "name": "python3"
    },
    "language_info": {
      "codemirror_mode": {
        "name": "ipython",
        "version": 3
      },
      "file_extension": ".py",
      "mimetype": "text/x-python",
      "name": "python",
      "nbconvert_exporter": "python",
      "pygments_lexer": "ipython3",
      "version": "3.10.5"
    },
    "colab": {
      "provenance": []
    }
  },
  "nbformat": 4,
  "nbformat_minor": 5
}